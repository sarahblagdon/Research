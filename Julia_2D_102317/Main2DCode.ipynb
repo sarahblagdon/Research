{
 "cells": [
  {
   "cell_type": "markdown",
   "metadata": {
    "slideshow": {
     "slide_type": "-"
    }
   },
   "source": [
    "# Nonlinear Newton's Method for 2D"
   ]
  },
  {
   "cell_type": "markdown",
   "metadata": {},
   "source": [
    "## The Set Up"
   ]
  },
  {
   "cell_type": "markdown",
   "metadata": {},
   "source": [
    "Newton's method is used to solve for the coefficient values in the 2D case. The bottom boundary is \n",
    "    \\begin{align}\n",
    "        w(x,0)= B_3 \\cos \\left( \\frac{2 m \\pi x}{L} \\right)+ B_4 \\sin \\left( \\frac{2 m \\pi x}{L} \\right) = \\hat{c}_1 \\sin \\left( u(x,0) \\right) + \\hat{c}_2 \\cos \\left( u(x,0) \\right)\n",
    "    \\end{align}\n",
    "\n",
    "The top boundary condition we are hoping to meet is \n",
    "    \\begin{align}\n",
    "    u(x,H) = x\n",
    "    \\end{align}\n",
    "\n",
    "Currently, the program works for  $ w(x,z)|_{z=H} = z|_{z=H}$. Because the system is orthogonal, the Cauchy Riemann equations should hold making either choice equivalent. \n",
    "\n"
   ]
  },
  {
   "cell_type": "markdown",
   "metadata": {},
   "source": [
    "## The Code"
   ]
  },
  {
   "cell_type": "markdown",
   "metadata": {},
   "source": [
    "\n",
    "The MAT package is used to easily bring in and export data as a .MAT file.\n",
    "\n",
    "**N** is the number of each coefficient.\n",
    "\n",
    "**M** is the number of samples in z.\n",
    "\n",
    "**L** is the length of the x component.\n",
    "\n",
    "**H** is the height of the z component.\n",
    "\n",
    "**$\\Delta x$**, **$\\Delta z$**, and **$\\Delta \\phi$** are the respective step sizes where $\\phi$ is the concatination of all the coefficient vectors (i.e. $A_{1:N}$ and $B_{1:N}$).\n",
    "\n",
    "amp1 and amp2 are the values of $\\hat{c}_1$ and $\\hat{c}_2$."
   ]
  },
  {
   "cell_type": "code",
   "execution_count": 8,
   "metadata": {},
   "outputs": [],
   "source": [
    "using MAT\n",
    "\n",
    "N = 4;\n",
    "M = 100;\n",
    "L = 2*pi;\n",
    "H = 5;\n",
    "Δx =1/100;\n",
    "Δz=H/M;\n",
    "Δϕ = .01;\n",
    "x = 0:Δx:L-Δx;\n",
    "z = 0:Δz:H;\n",
    "amp1 = 0.1;\n",
    "amp2=0.1;\n"
   ]
  },
  {
   "cell_type": "code",
   "execution_count": null,
   "metadata": {},
   "outputs": [],
   "source": []
  },
  {
   "cell_type": "markdown",
   "metadata": {},
   "source": [
    "Pull in the data gathered from orthogonality functions. "
   ]
  },
  {
   "cell_type": "code",
   "execution_count": 9,
   "metadata": {
    "collapsed": true
   },
   "outputs": [],
   "source": [
    "#include(\"cos_cos.jl\")\n",
    "#include(\"sin_sin.jl\")\n",
    "#include(\"cos_cos_cos.jl\")\n",
    "#include(\"cos_sin_sin.jl\")\n",
    "#include(\"sin_cos_sin.jl\")\n",
    "#include(\"sin_sin_cos.jl\")\n",
    "#include(\"OrthogMult_2D.jl\")\n",
    "#Ax,Bx,Cx,Dx,Ex,Fx = OrthogMult_2D(2,2*pi);\n",
    "push!(LOAD_PATH, \"C:\\\\Users\\\\Sarah\\\\Box Sync\\\\Research\\\\Julia_2D_102317\")\n",
    "import OrthogFuncs"
   ]
  },
  {
   "cell_type": "markdown",
   "metadata": {},
   "source": [
    "This is the main part of the script. Here "
   ]
  },
  {
   "cell_type": "code",
   "execution_count": 12,
   "metadata": {},
   "outputs": [
    {
     "data": {
      "text/plain": [
       "1"
      ]
     },
     "execution_count": 12,
     "metadata": {},
     "output_type": "execute_result"
    }
   ],
   "source": [
    "ϕ= zeros(4*(N),1)\n",
    "ϕorig = ϕ\n",
    "error = 1.0\n",
    "k=1"
   ]
  },
  {
   "cell_type": "code",
   "execution_count": 13,
   "metadata": {},
   "outputs": [
    {
     "data": {
      "text/plain": [
       "Dict{String,Any} with 1 entry:\n",
       "  \"icno0\" => [7.0 5.0 … 5.0 1.0]"
      ]
     },
     "execution_count": 13,
     "metadata": {},
     "output_type": "execute_result"
    }
   ],
   "source": [
    "using MAT\n",
    "push!(LOAD_PATH,\"C:\\\\Users\\\\Sarah\\\\Dropbox\\\\Research\\\\2D_10_19_17\\\\UniqueFunctions\\\\ic\n",
    "\")\n",
    "ic = matread(\"C:\\\\Users\\\\Sarah\\\\Dropbox\\\\Research\\\\2D_10_19_17\\\\UniqueFunctions\\\\ic\\\\ic.mat\")\n",
    "icno0 = matread(\"C:\\\\Users\\\\Sarah\\\\Dropbox\\\\Research\\\\2D_10_19_17\\\\UniqueFunctions\\\\ic\\\\icno0.mat\")"
   ]
  },
  {
   "cell_type": "code",
   "execution_count": 14,
   "metadata": {},
   "outputs": [
    {
     "name": "stdout",
     "output_type": "stream",
     "text": [
      "Dict{String,Any}(Pair{String,Any}(\"icno0\", [7.0 5.0 5.0 3.0 8.0 4.0 6.0 2.0 8.0 6.0 4.0 2.0 9.0 5.0 5.0 1.0]))"
     ]
    }
   ],
   "source": [
    "print(icno0)"
   ]
  },
  {
   "cell_type": "code",
   "execution_count": null,
   "metadata": {
    "collapsed": true
   },
   "outputs": [],
   "source": [
    "while error>.001 \n",
    "\n",
    "#[A1,A2,A3,A4,B1,B2,B3,B4,u] = Create_Coeff_u_weqH[phi,N,H,L,x,amp1,amp2]\n",
    "#=cd(\"\\PhiVals\")\n",
    "    filename = sprintf(\"phi_#s.mat\", num2str(k))\n",
    "    file = matopen(filename, \"w\")\n",
    "    write(file, \"phi\",phi)\n",
    "    close(file)\n",
    "cd ..\n",
    "cd(\"\\uVals\")\n",
    "    filename = sprintf(\"u_#s.mat\", num2str(k))\n",
    "    file - matopen(filename,\"w\")\n",
    "    write(file,\"u\",u)\n",
    "    close(file)\n",
    "cd ..=#\n",
    "    error = .00001\n",
    "end\n"
   ]
  },
  {
   "cell_type": "code",
   "execution_count": 4,
   "metadata": {},
   "outputs": [
    {
     "ename": "LoadError",
     "evalue": "\u001b[91mUndefVarError: phi not defined\u001b[39m",
     "output_type": "error",
     "traceback": [
      "\u001b[91mUndefVarError: phi not defined\u001b[39m",
      "",
      "Stacktrace:",
      " [1] \u001b[1minclude_string\u001b[22m\u001b[22m\u001b[1m(\u001b[22m\u001b[22m::String, ::String\u001b[1m)\u001b[22m\u001b[22m at \u001b[1m.\\loading.jl:515\u001b[22m\u001b[22m"
     ]
    }
   ],
   "source": [
    "phi\n"
   ]
  },
  {
   "cell_type": "code",
   "execution_count": 42,
   "metadata": {},
   "outputs": [
    {
     "ename": "LoadError",
     "evalue": "\u001b[91msyntax: invalid identifier name \"...\"\u001b[39m",
     "output_type": "error",
     "traceback": [
      "\u001b[91msyntax: invalid identifier name \"...\"\u001b[39m",
      "",
      "Stacktrace:",
      " [1] \u001b[1minclude_string\u001b[22m\u001b[22m\u001b[1m(\u001b[22m\u001b[22m::String, ::String\u001b[1m)\u001b[22m\u001b[22m at \u001b[1m.\\loading.jl:515\u001b[22m\u001b[22m"
     ]
    }
   ],
   "source": [
    "\n",
    "\n",
    "for j = 1:length(z)\n",
    "    for i = 1:length(x)\n",
    "        U(j,i) = U(j,i)+2*pi*x(i)/L;\n",
    "        V(j,i) = V(j,i)+ z(j);\n",
    "    end\n",
    "end\n",
    "toc\n",
    "\n",
    "%--------------------------------------------------------------------------\n",
    "% Plots.\n",
    "%--------------------------------------------------------------------------\n",
    "%%\n",
    "g=figure;\n",
    "plot(U(1,:),amp1*sin(U(1,:)*L/(2*pi))+amp2*cos(U(1,:)*L/(2*pi)),'m', 'Linewidth',2)\n",
    "hold on\n",
    "legend(['w(x,0) = ' num2str(amp1) 'sin(u) +' num2str(amp2) 'cos(u)'],'Location', 'North');\n",
    "plotuv(U, V, ['u vs. w where w(x,0) = ' num2str(amp1) 'sin(u) +' num2str(amp2) 'cos(u)'])\n",
    "\n",
    "\n",
    "% save plots\n",
    "cd Plots\n",
    "cd Graph\n",
    "    name = sprintf('Plot Using u_xu_z+w_xw_z=0 with u(x,H)=x Condition');\n",
    "    BBname = sprintf('Difference Between What the Bottom Boundary \\n Should be and What it is for u_xu_z+w_xw_z=0 and top BC u(x,H)=x');\n",
    "    TBname = sprintf('Difference Between What the Top Boundary \\n Should be and What it is for u_xu_z+w_xw_z=0 and top BC u(x,H)=x');\n",
    "    \n",
    "title(name,'Fontsize',16)\n",
    "annotation('textbox',...\n",
    "    [0.71845238095238 0.678571428571428 0.108928571428572 0.115966705381337],...\n",
    "    'String',{['N=', num2str(N)],['H=',num2str(H)]},...\n",
    "    'FontSize',12,...\n",
    "    'BackgroundColor',[1 1 1]);\n",
    "\n",
    "filename = sprintf('BottomBC_is_%dsin_%dcosine_Nis_%d_Nto1',100*amp1,100*amp2,N);\n",
    "printnice(g,filename)\n",
    "cd ..\n",
    "\n",
    "%%\n",
    "cd BottomBoundary\n",
    "actualBBC = amp1*sin(U(1,:))+amp2*cos(U(1,:));\n",
    "BBC = V(1,:);\n",
    "g = figure\n",
    "plot(U(1,:),actualBBC-BBC,'Linewidth',2)\n",
    "title(BBname,'Fontsize',14)\n",
    "xlabel('u')\n",
    "hold on\n",
    "plot(U(1,:),actualBBC, 'k','Linewidth',2)\n",
    "plot(U(1,:),BBC, ':r','Linewidth',2)\n",
    "legend('Difference','Actual Bottom BC','Created Bottom BC','Location','best')\n",
    "filename = sprintf('BottomBC_%dsin_%dcosine_Nis_%d',100*amp1,100*amp2,N);\n",
    "printnice(g,filename)\n",
    "cd ..\n",
    "\n",
    "\n",
    "%%\n",
    "%%\n",
    "\n",
    "cd TopBoundary\n",
    "[m,n]=size(V);\n",
    "actualTBC = H*ones(1,n);\n",
    "TBC = V(end,:);\n",
    "g = figure;\n",
    "plot(U(end,:),actualTBC-TBC,'Linewidth',2)\n",
    "title(TBname,'Fontsize',14)\n",
    "xlabel('u')\n",
    "hold on\n",
    "plot(U(end,:),actualTBC, ':k','Linewidth',2)\n",
    "plot(U(end,:),TBC, ':r','Linewidth',2)\n",
    "legend('Difference','Actual Top BC','Created Top BC','Location','best')\n",
    "filename = sprintf('BottomBC_%dsin_%dcosine_Nis_%d',100*amp1,100*amp2,N);\n",
    "printnice(g,filename)\n",
    "cd ..\n",
    "cd ..\n",
    "\n"
   ]
  },
  {
   "cell_type": "code",
   "execution_count": null,
   "metadata": {
    "collapsed": true
   },
   "outputs": [],
   "source": []
  }
 ],
 "metadata": {
  "kernelspec": {
   "display_name": "Julia 0.6.0",
   "language": "julia",
   "name": "julia-0.6"
  },
  "language_info": {
   "file_extension": ".jl",
   "mimetype": "application/julia",
   "name": "julia",
   "version": "0.6.0"
  }
 },
 "nbformat": 4,
 "nbformat_minor": 2
}
